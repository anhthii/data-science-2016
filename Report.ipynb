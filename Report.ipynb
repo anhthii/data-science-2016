{
 "cells": [
  {
   "cell_type": "markdown",
   "metadata": {},
   "source": [
    "# Đồ án cuối kỳ môn khoa học dữ liệu CQ2016/2\n",
    "\n",
    "## Đề tài: Phân loại danh mục của sản phẩm dựa trên tên sản phẩm\n",
    "\n",
    "## <font color='blue'> Chi tiết quy trình thu thập dữ liệu, phân tích, huấn luyện dữ liệu để đưa ra model máy học dự đoán danh mục sản phẩm được chia làm những bước chính sau đây </font>\n",
    "\n",
    "## Mục lục trình bày các bước:\n",
    "* [B1: Thu thập dữ liệu  ](#first-bullet)\n",
    "* [B2: Tiền xử lý dữ liệu](#second-bullet)\n",
    "* [B3: Chuyển data dạng text sang vector](#second-bullet)\n",
    "* [B4: Áp dụng các mô hình máy học khác nhau để huấn luyện dữ liệu, chọn ra mô hình tối ưu nhất](#second-bullet)"
   ]
  },
  {
   "cell_type": "markdown",
   "metadata": {},
   "source": [
    "## Import các thư viện cần thiết"
   ]
  },
  {
   "cell_type": "code",
   "execution_count": 1,
   "metadata": {},
   "outputs": [],
   "source": [
    "from requests_html import HTMLSession\n",
    "import csv\n",
    "import numpy as np\n",
    "import pandas as pd\n",
    "import matplotlib.pyplot as plt\n",
    "import re  # For preprocessing\n",
    "from IPython.display import display, HTML\n",
    "from sklearn.feature_extraction.text import CountVectorizer\n",
    "from sklearn.model_selection import train_test_split\n",
    "from sklearn.feature_extraction.text import TfidfTransformer\n",
    "from sklearn.naive_bayes import MultinomialNB\n",
    "from sklearn.linear_model import SGDClassifier\n",
    "from sklearn.base import BaseEstimator, TransformerMixin\n",
    "from sklearn.metrics import accuracy_score\n",
    "from sklearn.linear_model import LogisticRegression"
   ]
  },
  {
   "cell_type": "markdown",
   "metadata": {},
   "source": [
    "## B1: Thu thập dữ liệu  <a class=\"anchor\" id=\"first-bullet\"></a>\n",
    "\n",
    "Nhóm thực hiện thu thập dữ liệu trên trang [tiki.vn](https://tiki.vn/). Trước khi thu thập nhóm đã kiểm tra file `robot.txt` và thấy dữ liệu thu thập được hoàn toàn được trang tiki cho phép và hợp lệ"
   ]
  },
  {
   "cell_type": "code",
   "execution_count": 2,
   "metadata": {
    "scrolled": false
   },
   "outputs": [
    {
     "data": {
      "text/html": [
       "<div>\n",
       "<style scoped>\n",
       "    .dataframe tbody tr th:only-of-type {\n",
       "        vertical-align: middle;\n",
       "    }\n",
       "\n",
       "    .dataframe tbody tr th {\n",
       "        vertical-align: top;\n",
       "    }\n",
       "\n",
       "    .dataframe thead th {\n",
       "        text-align: right;\n",
       "    }\n",
       "</style>\n",
       "<table border=\"1\" class=\"dataframe\">\n",
       "  <thead>\n",
       "    <tr style=\"text-align: right;\">\n",
       "      <th></th>\n",
       "      <th>đường dẫn</th>\n",
       "      <th>tên danh mục</th>\n",
       "    </tr>\n",
       "  </thead>\n",
       "  <tbody>\n",
       "    <tr>\n",
       "      <th>0</th>\n",
       "      <td>https://tiki.vn/dien-thoai-may-tinh-bang/c1789...</td>\n",
       "      <td>Điện Thoại - Máy Tính Bảng</td>\n",
       "    </tr>\n",
       "    <tr>\n",
       "      <th>1</th>\n",
       "      <td>https://tiki.vn/tivi-thiet-bi-nghe-nhin/c4221?...</td>\n",
       "      <td>Điện Tử - Điện Lạnh</td>\n",
       "    </tr>\n",
       "    <tr>\n",
       "      <th>2</th>\n",
       "      <td>https://tiki.vn/thiet-bi-kts-phu-kien-so/c1815...</td>\n",
       "      <td>Phụ Kiện - Thiết Bị Số</td>\n",
       "    </tr>\n",
       "    <tr>\n",
       "      <th>3</th>\n",
       "      <td>https://tiki.vn/laptop-may-vi-tinh/c1846?src=c...</td>\n",
       "      <td>Laptop - Thiết bị IT</td>\n",
       "    </tr>\n",
       "    <tr>\n",
       "      <th>4</th>\n",
       "      <td>https://tiki.vn/may-anh/c1801?src=c.1801.hambu...</td>\n",
       "      <td>Máy Ảnh - Quay Phim</td>\n",
       "    </tr>\n",
       "    <tr>\n",
       "      <th>5</th>\n",
       "      <td>https://tiki.vn/dien-gia-dung/c1882?src=c.1882...</td>\n",
       "      <td>Điện Gia Dụng</td>\n",
       "    </tr>\n",
       "    <tr>\n",
       "      <th>6</th>\n",
       "      <td>https://tiki.vn/nha-cua-doi-song/c1883?src=c.1...</td>\n",
       "      <td>Nhà Cửa Đời Sống</td>\n",
       "    </tr>\n",
       "    <tr>\n",
       "      <th>7</th>\n",
       "      <td>https://tiki.vn/bach-hoa-online/c4384?src=c.43...</td>\n",
       "      <td>Hàng Tiêu Dùng - Thực Phẩm</td>\n",
       "    </tr>\n",
       "    <tr>\n",
       "      <th>8</th>\n",
       "      <td>https://tiki.vn/me-va-be/c2549?src=c.2549.hamb...</td>\n",
       "      <td>Đồ chơi, Mẹ &amp; Bé</td>\n",
       "    </tr>\n",
       "    <tr>\n",
       "      <th>9</th>\n",
       "      <td>https://tiki.vn/lam-dep-suc-khoe/c1520?src=c.1...</td>\n",
       "      <td>Làm Đẹp - Sức Khỏe</td>\n",
       "    </tr>\n",
       "    <tr>\n",
       "      <th>10</th>\n",
       "      <td>https://tiki.vn/thoi-trang/c914?src=c.914.hamb...</td>\n",
       "      <td>Thời trang - Phụ kiện</td>\n",
       "    </tr>\n",
       "    <tr>\n",
       "      <th>11</th>\n",
       "      <td>https://tiki.vn/the-thao/c1975?src=c.1975.hamb...</td>\n",
       "      <td>Thể Thao - Dã Ngoại</td>\n",
       "    </tr>\n",
       "    <tr>\n",
       "      <th>12</th>\n",
       "      <td>https://tiki.vn/o-to-xe-may-xe-dap/c8594?src=c...</td>\n",
       "      <td>Xe Máy, Ô tô, Xe Đạp</td>\n",
       "    </tr>\n",
       "    <tr>\n",
       "      <th>13</th>\n",
       "      <td>https://tiki.vn/hang-quoc-te/c17166?src=c.1716...</td>\n",
       "      <td>Hàng quốc tế</td>\n",
       "    </tr>\n",
       "    <tr>\n",
       "      <th>14</th>\n",
       "      <td>https://tiki.vn/nha-sach-tiki/c8322?src=c.8322...</td>\n",
       "      <td>Sách, VPP &amp; Quà Tặng</td>\n",
       "    </tr>\n",
       "    <tr>\n",
       "      <th>15</th>\n",
       "      <td>https://tiki.vn/voucher-dich-vu/c11312?src=c.1...</td>\n",
       "      <td>Voucher - Dịch Vụ - Thẻ Cào</td>\n",
       "    </tr>\n",
       "  </tbody>\n",
       "</table>\n",
       "</div>"
      ],
      "text/plain": [
       "                                            đường dẫn  \\\n",
       "0   https://tiki.vn/dien-thoai-may-tinh-bang/c1789...   \n",
       "1   https://tiki.vn/tivi-thiet-bi-nghe-nhin/c4221?...   \n",
       "2   https://tiki.vn/thiet-bi-kts-phu-kien-so/c1815...   \n",
       "3   https://tiki.vn/laptop-may-vi-tinh/c1846?src=c...   \n",
       "4   https://tiki.vn/may-anh/c1801?src=c.1801.hambu...   \n",
       "5   https://tiki.vn/dien-gia-dung/c1882?src=c.1882...   \n",
       "6   https://tiki.vn/nha-cua-doi-song/c1883?src=c.1...   \n",
       "7   https://tiki.vn/bach-hoa-online/c4384?src=c.43...   \n",
       "8   https://tiki.vn/me-va-be/c2549?src=c.2549.hamb...   \n",
       "9   https://tiki.vn/lam-dep-suc-khoe/c1520?src=c.1...   \n",
       "10  https://tiki.vn/thoi-trang/c914?src=c.914.hamb...   \n",
       "11  https://tiki.vn/the-thao/c1975?src=c.1975.hamb...   \n",
       "12  https://tiki.vn/o-to-xe-may-xe-dap/c8594?src=c...   \n",
       "13  https://tiki.vn/hang-quoc-te/c17166?src=c.1716...   \n",
       "14  https://tiki.vn/nha-sach-tiki/c8322?src=c.8322...   \n",
       "15  https://tiki.vn/voucher-dich-vu/c11312?src=c.1...   \n",
       "\n",
       "                   tên danh mục  \n",
       "0    Điện Thoại - Máy Tính Bảng  \n",
       "1           Điện Tử - Điện Lạnh  \n",
       "2        Phụ Kiện - Thiết Bị Số  \n",
       "3          Laptop - Thiết bị IT  \n",
       "4           Máy Ảnh - Quay Phim  \n",
       "5                 Điện Gia Dụng  \n",
       "6              Nhà Cửa Đời Sống  \n",
       "7    Hàng Tiêu Dùng - Thực Phẩm  \n",
       "8              Đồ chơi, Mẹ & Bé  \n",
       "9            Làm Đẹp - Sức Khỏe  \n",
       "10        Thời trang - Phụ kiện  \n",
       "11          Thể Thao - Dã Ngoại  \n",
       "12         Xe Máy, Ô tô, Xe Đạp  \n",
       "13                 Hàng quốc tế  \n",
       "14         Sách, VPP & Quà Tặng  \n",
       "15  Voucher - Dịch Vụ - Thẻ Cào  "
      ]
     },
     "metadata": {},
     "output_type": "display_data"
    }
   ],
   "source": [
    "session = HTMLSession()\n",
    "r = session.get('https://tiki.vn/')\n",
    "r.encoding = 'utf-8'\n",
    "\n",
    "data = []\n",
    "link_category_dict = dict()\n",
    "\n",
    "def parse_link(href, currentPage = 1):\n",
    "    page = href+\"&page=\"+str(currentPage)\n",
    "    _session = HTMLSession()\n",
    "    _r = _session.get(page)\n",
    "    items = _r.html.find('.content .title')\n",
    "\n",
    "    if len(items) == 0:\n",
    "        return\n",
    "    for item in items:\n",
    "        category = link_category_dict[href]\n",
    "        data.append([item.text.strip().rstrip(\".\"), category])\n",
    "    nextPage = currentPage+1\n",
    "    try:\n",
    "        print(\"page \", page)\n",
    "        parse_link(href, nextPage)\n",
    "    except Exception as e:\n",
    "        print(\"some errors occured\", str(e))\n",
    "\n",
    "def get_categories():\n",
    "    categories = []\n",
    "    item_list = r.html.find('li.MenuItem-tii3xq-0 ')\n",
    "    for item in item_list:\n",
    "        href = item.find('a', first=True).attrs[\"href\"]\n",
    "        category = item.text\n",
    "        categories.append((href, category))\n",
    "        link_category_dict[href] = category\n",
    "    return categories\n",
    "\n",
    "def crawl_data():\n",
    "    category_tuples = get_categories()\n",
    "    for category_tuple in category_tuples:\n",
    "        (href, category_name) = category_tuple\n",
    "        # Không cần sleep vì tiki.vn đã có cơ chế rate limit request\n",
    "        parse_link(href)\n",
    "\n",
    "def save_data():\n",
    "    np.random.shuffle(data)\n",
    "    if len(data) != 0:\n",
    "        with open('product.csv', 'w', newline='', encoding='utf-8') as file:\n",
    "            writer = csv.writer(file)\n",
    "            writer.writerow([\"product_title\", \"category\"])\n",
    "            for item in data:\n",
    "                writer.writerow(item)\n",
    "\n",
    "category_tuples = get_categories()\n",
    "categorydf = pd.DataFrame(list(category_tuples), columns=['đường dẫn', 'tên danh mục'])\n",
    "display(categorydf)\n",
    "def run():\n",
    "    print(\"start crawling\")\n",
    "    crawl_data()\n",
    "    save_data()\n",
    "\n",
    "# uncomment run() to start crawling data\n",
    "# run()"
   ]
  },
  {
   "cell_type": "markdown",
   "metadata": {},
   "source": [
    "Sau khi thực hiện lấy danh sách các link danh mục sản phẩm như trên ta tiến hành thu thập dữ liệu đối với từng link. Crawler sẽ crawl hết tất cả các trang đối với từng danh mục bằng cách sử dungj param `page=` truyền vào request url sẽ có dạng như sau\n",
    "\n",
    "https://tiki.vn/dien-thoai-may-tinh-bang/c1789?src=c.1789.hamburger_menu_fly_out_banner&_lc=Vk4wMzkwMTIwMDQ%3D?page=1"
   ]
  },
  {
   "cell_type": "markdown",
   "metadata": {},
   "source": [
    "Sau khi crawl dữ liệu thành công ta đọc dữ liệu từ file `product.csv` và tạo data frame bằng pandas. Ta được mẫu dữ liệu như sau"
   ]
  },
  {
   "cell_type": "code",
   "execution_count": 3,
   "metadata": {},
   "outputs": [
    {
     "name": "stdout",
     "output_type": "stream",
     "text": [
      "count =  product_title    142291\n",
      "category         142291\n",
      "dtype: int64\n"
     ]
    },
    {
     "data": {
      "text/html": [
       "<div>\n",
       "<style scoped>\n",
       "    .dataframe tbody tr th:only-of-type {\n",
       "        vertical-align: middle;\n",
       "    }\n",
       "\n",
       "    .dataframe tbody tr th {\n",
       "        vertical-align: top;\n",
       "    }\n",
       "\n",
       "    .dataframe thead th {\n",
       "        text-align: right;\n",
       "    }\n",
       "</style>\n",
       "<table border=\"1\" class=\"dataframe\">\n",
       "  <thead>\n",
       "    <tr style=\"text-align: right;\">\n",
       "      <th></th>\n",
       "      <th>product_title</th>\n",
       "      <th>category</th>\n",
       "    </tr>\n",
       "  </thead>\n",
       "  <tbody>\n",
       "    <tr>\n",
       "      <th>0</th>\n",
       "      <td>Giày Nam Thể Thao Tăng Chiều Cao 8cm Ohazo!</td>\n",
       "      <td>Thời trang - Phụ kiện</td>\n",
       "    </tr>\n",
       "    <tr>\n",
       "      <th>1</th>\n",
       "      <td>Bộ quần áo thun cotton 4 chiều cao cấp</td>\n",
       "      <td>Đồ chơi, Mẹ &amp; Bé</td>\n",
       "    </tr>\n",
       "    <tr>\n",
       "      <th>2</th>\n",
       "      <td>Áo Khoác Ca Rô Cực Đẹp AK002</td>\n",
       "      <td>Thời trang - Phụ kiện</td>\n",
       "    </tr>\n",
       "    <tr>\n",
       "      <th>3</th>\n",
       "      <td>Bộ Thú Cưng Hoang Dã Của Bé Lego Duplo</td>\n",
       "      <td>Đồ chơi, Mẹ &amp; Bé</td>\n",
       "    </tr>\n",
       "    <tr>\n",
       "      <th>4</th>\n",
       "      <td>Bộ Phát Wifi Di Động 3G Alcatel Y580 (21</td>\n",
       "      <td>Laptop - Thiết bị IT</td>\n",
       "    </tr>\n",
       "    <tr>\n",
       "      <th>5</th>\n",
       "      <td>3.5mm 1 to 2 Double Earphone Headphone Y</td>\n",
       "      <td>Hàng quốc tế</td>\n",
       "    </tr>\n",
       "    <tr>\n",
       "      <th>6</th>\n",
       "      <td>Folding Transparent 240 Holes Stud Earring</td>\n",
       "      <td>Hàng quốc tế</td>\n",
       "    </tr>\n",
       "    <tr>\n",
       "      <th>7</th>\n",
       "      <td>Ấm Đun Siêu Tốc AUX AK-15N01 (5L)</td>\n",
       "      <td>Điện Gia Dụng</td>\n",
       "    </tr>\n",
       "    <tr>\n",
       "      <th>8</th>\n",
       "      <td>Phấn phủ bột khoáng kềm dầu LUA</td>\n",
       "      <td>Làm Đẹp - Sức Khỏe</td>\n",
       "    </tr>\n",
       "    <tr>\n",
       "      <th>9</th>\n",
       "      <td>Chai xịt sát trùng nhanh lành vết thương cho</td>\n",
       "      <td>Hàng Tiêu Dùng - Thực Phẩm</td>\n",
       "    </tr>\n",
       "  </tbody>\n",
       "</table>\n",
       "</div>"
      ],
      "text/plain": [
       "                                  product_title                    category\n",
       "0  Giày Nam Thể Thao Tăng Chiều Cao 8cm Ohazo!        Thời trang - Phụ kiện\n",
       "1        Bộ quần áo thun cotton 4 chiều cao cấp            Đồ chơi, Mẹ & Bé\n",
       "2                  Áo Khoác Ca Rô Cực Đẹp AK002       Thời trang - Phụ kiện\n",
       "3        Bộ Thú Cưng Hoang Dã Của Bé Lego Duplo            Đồ chơi, Mẹ & Bé\n",
       "4      Bộ Phát Wifi Di Động 3G Alcatel Y580 (21        Laptop - Thiết bị IT\n",
       "5      3.5mm 1 to 2 Double Earphone Headphone Y                Hàng quốc tế\n",
       "6    Folding Transparent 240 Holes Stud Earring                Hàng quốc tế\n",
       "7             Ấm Đun Siêu Tốc AUX AK-15N01 (5L)               Điện Gia Dụng\n",
       "8               Phấn phủ bột khoáng kềm dầu LUA          Làm Đẹp - Sức Khỏe\n",
       "9  Chai xịt sát trùng nhanh lành vết thương cho  Hàng Tiêu Dùng - Thực Phẩm"
      ]
     },
     "execution_count": 3,
     "metadata": {},
     "output_type": "execute_result"
    }
   ],
   "source": [
    "df = pd.read_csv('product.csv')\n",
    "print(\"count = \", df.count())\n",
    "df.head(10)"
   ]
  },
  {
   "cell_type": "markdown",
   "metadata": {},
   "source": [
    "Tiến hành thống kê số lượng sản phẩm cho mỗi danh mục sau khi thu thập được"
   ]
  },
  {
   "cell_type": "code",
   "execution_count": 4,
   "metadata": {},
   "outputs": [
    {
     "data": {
      "text/plain": [
       "Text(0.5, 0, 'Số sản phẩm')"
      ]
     },
     "execution_count": 4,
     "metadata": {},
     "output_type": "execute_result"
    },
    {
     "data": {
      "image/png": "[encoded data removed]",
      "text/plain": [
       "<Figure size 576x432 with 1 Axes>"
      ]
     },
     "metadata": {
      "needs_background": "light"
     },
     "output_type": "display_data"
    }
   ],
   "source": [
    "fig = plt.figure(figsize=(8,6))\n",
    "colors = ['cyan','green','orange','blue','red','grey','purple','black','grey',\n",
    "    'turquoise','violet','navy','darkblue']\n",
    "df.groupby('category').product_title.count().sort_values().plot.barh(\n",
    "    ylim=0, color=colors, title='Số sản phẩm ứng với mỗi danh mục')\n",
    "plt.xlabel('Số sản phẩm', fontsize=15)"
   ]
  },
  {
   "cell_type": "markdown",
   "metadata": {},
   "source": [
    "## B2: Tiền xử lý dữ liệu"
   ]
  },
  {
   "cell_type": "markdown",
   "metadata": {},
   "source": [
    "Sau khi dữ liệu được thu thập, chúng ta cần xử lý dữ liệu để phục vụ việc training dữ liệu được tốt hơn\n",
    "Chẳng hạn 1 dòng dữ liệu có `title` như sau"
   ]
  },
  {
   "cell_type": "code",
   "execution_count": 5,
   "metadata": {},
   "outputs": [
    {
     "data": {
      "text/plain": [
       "'Combo 4 hộp Gà Hầm Vissan (150g)'"
      ]
     },
     "execution_count": 5,
     "metadata": {},
     "output_type": "execute_result"
    }
   ],
   "source": [
    "df.loc[142177][\"product_title\"]"
   ]
  },
  {
   "cell_type": "markdown",
   "metadata": {},
   "source": [
    "Ở ví dụ trên, ta thấy có những thông tin thừa thải không cần được đưa vào mô hình để huấn luyện như là các chữ `Combo`, `4`, `(150g)`. Vì vậy công việc tiền xử lý sẽ loại bỏ những thông tin này\n",
    "Với ví dụ trên, ta mong muốn qua bước tiền xử lý. Thông tin còn lại sẽ là:\n",
    "\n",
    "Combo 4 hộp Gà Hầm Vissan (150g) => <font color='red'>hộp Gà Hầm Vissan</font>"
   ]
  },
  {
   "cell_type": "markdown",
   "metadata": {},
   "source": [
    "### Lấy danh sách các stop word"
   ]
  },
  {
   "cell_type": "code",
   "execution_count": 6,
   "metadata": {},
   "outputs": [
    {
     "name": "stdout",
     "output_type": "stream",
     "text": [
      "['cho', 'các', 'còn', 'có', 'cũng', 'của', 'hai', 'hoa', 'họ', 'dành', 'khi', 'tham', 'không', 'liên', 'kết', 'loài', 'là', 'làm', 'miêu', 'một', 'ngoài', 'ngày', 'người', 'nhiều', 'như', 'nhất', 'những', 'này', 'nó', 'năm', 'ra', 'sau', 'theo', 'thuộc', 'tháng', 'thêm', 'trong', 'trên', 'tên', 'tại', 'tỉnh', 'từ', 'và', 'vào', 'về', 'với', 'xem', 'xinh', 'xắn', 'đã', 'đó', 'được', 'đến', 'để', 'combo', 'hãng']\n"
     ]
    }
   ],
   "source": [
    "stop_words = list(line.strip() for line in open('stopword.txt'))\n",
    "print(stop_words)"
   ]
  },
  {
   "cell_type": "markdown",
   "metadata": {},
   "source": [
    "Tạo class `TextPreprocessor` implement interface `transformer` của Sklearn. TextPreprocessor sẽ làm nhiệm vụ lowercase, xoá các stopword, số, các kí tự đặc biệt, dấu chấm câu khỏi product_title"
   ]
  },
  {
   "cell_type": "code",
   "execution_count": 7,
   "metadata": {},
   "outputs": [],
   "source": [
    "class TextPreprocessor(BaseEstimator, TransformerMixin):\n",
    "    def __init__(self, stop_words = []):\n",
    "        self.stop_words = stop_words\n",
    "    def fit(self, X_df, y=None):\n",
    "        categories = X_df['category'].unique()\n",
    "        # Thêm cột category_id, map category thành số \n",
    "        self.category_to_id = {}\n",
    "        assign_id = 0\n",
    "        for category in categories:\n",
    "            self.category_to_id[category] = assign_id\n",
    "            assign_id += 1  # Get a new id for new author\n",
    "        # Dict lưu key: id, value: tên category    \n",
    "        self.id_to_category = {v: k for k, v in self.category_to_id.items()}\n",
    "        \n",
    "    def id_to_categoryname(self, category_id):\n",
    "        return self.id_to_category[category_id]\n",
    "    \n",
    "    def get_category_id(self, category):\n",
    "        return self.category_to_id[category]\n",
    "    \n",
    "    def cleanText(self, text): \n",
    "        # Convert text to lower\n",
    "        text = text.lower()\n",
    "        # Removing non alphabetic words\n",
    "        # word contains number | hyphen | paranthesis\n",
    "        text = re.sub(r'\\S*\\d\\S*|-|\\(.*\\)', r'', text)\n",
    "\n",
    "        # Removing all the stopwords\n",
    "        filtered_words = [word for word in text.split() if word not in stop_words]\n",
    "        text = \" \".join(filtered_words)\n",
    "\n",
    "        # strip multiple spaces\n",
    "        text = re.sub(' +', ' ', text)\n",
    "\n",
    "        # strip punctuation\n",
    "        text = re.sub(r'[^\\w\\s]', '', text)\n",
    "        return text\n",
    "\n",
    "    def transform(self, X_df, y=None):\n",
    "        new_X_df = X_df.copy()\n",
    "        new_X_df['category_id'] = new_X_df['category'].map(self.get_category_id)\n",
    "        new_X_df.drop(['category'], axis=1)\n",
    "        new_X_df[\"product_title\"] = new_X_df[\"product_title\"].map(self.cleanText)        \n",
    "        return new_X_df\n",
    "    \n",
    "\n",
    "    \n"
   ]
  },
  {
   "cell_type": "markdown",
   "metadata": {},
   "source": [
    "### Dữ liệu trước khi tiền xử lý"
   ]
  },
  {
   "cell_type": "code",
   "execution_count": 8,
   "metadata": {},
   "outputs": [
    {
     "data": {
      "text/html": [
       "<div>\n",
       "<style scoped>\n",
       "    .dataframe tbody tr th:only-of-type {\n",
       "        vertical-align: middle;\n",
       "    }\n",
       "\n",
       "    .dataframe tbody tr th {\n",
       "        vertical-align: top;\n",
       "    }\n",
       "\n",
       "    .dataframe thead th {\n",
       "        text-align: right;\n",
       "    }\n",
       "</style>\n",
       "<table border=\"1\" class=\"dataframe\">\n",
       "  <thead>\n",
       "    <tr style=\"text-align: right;\">\n",
       "      <th></th>\n",
       "      <th>product_title</th>\n",
       "      <th>category</th>\n",
       "    </tr>\n",
       "  </thead>\n",
       "  <tbody>\n",
       "    <tr>\n",
       "      <th>0</th>\n",
       "      <td>Giày Nam Thể Thao Tăng Chiều Cao 8cm Ohazo!</td>\n",
       "      <td>Thời trang - Phụ kiện</td>\n",
       "    </tr>\n",
       "    <tr>\n",
       "      <th>1</th>\n",
       "      <td>Bộ quần áo thun cotton 4 chiều cao cấp</td>\n",
       "      <td>Đồ chơi, Mẹ &amp; Bé</td>\n",
       "    </tr>\n",
       "    <tr>\n",
       "      <th>2</th>\n",
       "      <td>Áo Khoác Ca Rô Cực Đẹp AK002</td>\n",
       "      <td>Thời trang - Phụ kiện</td>\n",
       "    </tr>\n",
       "    <tr>\n",
       "      <th>3</th>\n",
       "      <td>Bộ Thú Cưng Hoang Dã Của Bé Lego Duplo</td>\n",
       "      <td>Đồ chơi, Mẹ &amp; Bé</td>\n",
       "    </tr>\n",
       "    <tr>\n",
       "      <th>4</th>\n",
       "      <td>Bộ Phát Wifi Di Động 3G Alcatel Y580 (21</td>\n",
       "      <td>Laptop - Thiết bị IT</td>\n",
       "    </tr>\n",
       "    <tr>\n",
       "      <th>5</th>\n",
       "      <td>3.5mm 1 to 2 Double Earphone Headphone Y</td>\n",
       "      <td>Hàng quốc tế</td>\n",
       "    </tr>\n",
       "    <tr>\n",
       "      <th>6</th>\n",
       "      <td>Folding Transparent 240 Holes Stud Earring</td>\n",
       "      <td>Hàng quốc tế</td>\n",
       "    </tr>\n",
       "    <tr>\n",
       "      <th>7</th>\n",
       "      <td>Ấm Đun Siêu Tốc AUX AK-15N01 (5L)</td>\n",
       "      <td>Điện Gia Dụng</td>\n",
       "    </tr>\n",
       "    <tr>\n",
       "      <th>8</th>\n",
       "      <td>Phấn phủ bột khoáng kềm dầu LUA</td>\n",
       "      <td>Làm Đẹp - Sức Khỏe</td>\n",
       "    </tr>\n",
       "    <tr>\n",
       "      <th>9</th>\n",
       "      <td>Chai xịt sát trùng nhanh lành vết thương cho</td>\n",
       "      <td>Hàng Tiêu Dùng - Thực Phẩm</td>\n",
       "    </tr>\n",
       "  </tbody>\n",
       "</table>\n",
       "</div>"
      ],
      "text/plain": [
       "                                  product_title                    category\n",
       "0  Giày Nam Thể Thao Tăng Chiều Cao 8cm Ohazo!        Thời trang - Phụ kiện\n",
       "1        Bộ quần áo thun cotton 4 chiều cao cấp            Đồ chơi, Mẹ & Bé\n",
       "2                  Áo Khoác Ca Rô Cực Đẹp AK002       Thời trang - Phụ kiện\n",
       "3        Bộ Thú Cưng Hoang Dã Của Bé Lego Duplo            Đồ chơi, Mẹ & Bé\n",
       "4      Bộ Phát Wifi Di Động 3G Alcatel Y580 (21        Laptop - Thiết bị IT\n",
       "5      3.5mm 1 to 2 Double Earphone Headphone Y                Hàng quốc tế\n",
       "6    Folding Transparent 240 Holes Stud Earring                Hàng quốc tế\n",
       "7             Ấm Đun Siêu Tốc AUX AK-15N01 (5L)               Điện Gia Dụng\n",
       "8               Phấn phủ bột khoáng kềm dầu LUA          Làm Đẹp - Sức Khỏe\n",
       "9  Chai xịt sát trùng nhanh lành vết thương cho  Hàng Tiêu Dùng - Thực Phẩm"
      ]
     },
     "execution_count": 8,
     "metadata": {},
     "output_type": "execute_result"
    }
   ],
   "source": [
    "df.head(10)"
   ]
  },
  {
   "cell_type": "markdown",
   "metadata": {},
   "source": [
    "### Dữ liệu sau tiền xử lý"
   ]
  },
  {
   "cell_type": "code",
   "execution_count": 9,
   "metadata": {
    "scrolled": true
   },
   "outputs": [
    {
     "data": {
      "text/html": [
       "<div>\n",
       "<style scoped>\n",
       "    .dataframe tbody tr th:only-of-type {\n",
       "        vertical-align: middle;\n",
       "    }\n",
       "\n",
       "    .dataframe tbody tr th {\n",
       "        vertical-align: top;\n",
       "    }\n",
       "\n",
       "    .dataframe thead th {\n",
       "        text-align: right;\n",
       "    }\n",
       "</style>\n",
       "<table border=\"1\" class=\"dataframe\">\n",
       "  <thead>\n",
       "    <tr style=\"text-align: right;\">\n",
       "      <th></th>\n",
       "      <th>product_title</th>\n",
       "      <th>category</th>\n",
       "      <th>category_id</th>\n",
       "    </tr>\n",
       "  </thead>\n",
       "  <tbody>\n",
       "    <tr>\n",
       "      <th>0</th>\n",
       "      <td>giày nam thể thao tăng chiều cao ohazo</td>\n",
       "      <td>Thời trang - Phụ kiện</td>\n",
       "      <td>0</td>\n",
       "    </tr>\n",
       "    <tr>\n",
       "      <th>1</th>\n",
       "      <td>bộ quần áo thun cotton chiều cao cấp</td>\n",
       "      <td>Đồ chơi, Mẹ &amp; Bé</td>\n",
       "      <td>1</td>\n",
       "    </tr>\n",
       "    <tr>\n",
       "      <th>2</th>\n",
       "      <td>áo khoác ca rô cực đẹp</td>\n",
       "      <td>Thời trang - Phụ kiện</td>\n",
       "      <td>0</td>\n",
       "    </tr>\n",
       "    <tr>\n",
       "      <th>3</th>\n",
       "      <td>bộ thú cưng hoang dã bé lego duplo</td>\n",
       "      <td>Đồ chơi, Mẹ &amp; Bé</td>\n",
       "      <td>1</td>\n",
       "    </tr>\n",
       "    <tr>\n",
       "      <th>4</th>\n",
       "      <td>bộ phát wifi di động alcatel</td>\n",
       "      <td>Laptop - Thiết bị IT</td>\n",
       "      <td>2</td>\n",
       "    </tr>\n",
       "    <tr>\n",
       "      <th>5</th>\n",
       "      <td>to double earphone headphone y</td>\n",
       "      <td>Hàng quốc tế</td>\n",
       "      <td>3</td>\n",
       "    </tr>\n",
       "    <tr>\n",
       "      <th>6</th>\n",
       "      <td>folding transparent holes stud earring</td>\n",
       "      <td>Hàng quốc tế</td>\n",
       "      <td>3</td>\n",
       "    </tr>\n",
       "    <tr>\n",
       "      <th>7</th>\n",
       "      <td>ấm đun siêu tốc aux</td>\n",
       "      <td>Điện Gia Dụng</td>\n",
       "      <td>4</td>\n",
       "    </tr>\n",
       "    <tr>\n",
       "      <th>8</th>\n",
       "      <td>phấn phủ bột khoáng kềm dầu lua</td>\n",
       "      <td>Làm Đẹp - Sức Khỏe</td>\n",
       "      <td>5</td>\n",
       "    </tr>\n",
       "    <tr>\n",
       "      <th>9</th>\n",
       "      <td>chai xịt sát trùng nhanh lành vết thương</td>\n",
       "      <td>Hàng Tiêu Dùng - Thực Phẩm</td>\n",
       "      <td>6</td>\n",
       "    </tr>\n",
       "  </tbody>\n",
       "</table>\n",
       "</div>"
      ],
      "text/plain": [
       "                              product_title                    category  \\\n",
       "0    giày nam thể thao tăng chiều cao ohazo       Thời trang - Phụ kiện   \n",
       "1      bộ quần áo thun cotton chiều cao cấp            Đồ chơi, Mẹ & Bé   \n",
       "2                    áo khoác ca rô cực đẹp       Thời trang - Phụ kiện   \n",
       "3        bộ thú cưng hoang dã bé lego duplo            Đồ chơi, Mẹ & Bé   \n",
       "4              bộ phát wifi di động alcatel        Laptop - Thiết bị IT   \n",
       "5            to double earphone headphone y                Hàng quốc tế   \n",
       "6    folding transparent holes stud earring                Hàng quốc tế   \n",
       "7                       ấm đun siêu tốc aux               Điện Gia Dụng   \n",
       "8           phấn phủ bột khoáng kềm dầu lua          Làm Đẹp - Sức Khỏe   \n",
       "9  chai xịt sát trùng nhanh lành vết thương  Hàng Tiêu Dùng - Thực Phẩm   \n",
       "\n",
       "   category_id  \n",
       "0            0  \n",
       "1            1  \n",
       "2            0  \n",
       "3            1  \n",
       "4            2  \n",
       "5            3  \n",
       "6            3  \n",
       "7            4  \n",
       "8            5  \n",
       "9            6  "
      ]
     },
     "execution_count": 9,
     "metadata": {},
     "output_type": "execute_result"
    }
   ],
   "source": [
    "textProcessor = TextPreprocessor(stop_words)\n",
    "textProcessor.fit(df)\n",
    "transformed_df = textProcessor.transform(df)\n",
    "transformed_df.head(10)"
   ]
  },
  {
   "cell_type": "code",
   "execution_count": 10,
   "metadata": {},
   "outputs": [
    {
     "data": {
      "text/plain": [
       "'hộp gà hầm vissan'"
      ]
     },
     "execution_count": 10,
     "metadata": {},
     "output_type": "execute_result"
    }
   ],
   "source": [
    "transformed_df.loc[142177][\"product_title\"]"
   ]
  },
  {
   "cell_type": "markdown",
   "metadata": {},
   "source": [
    "vậy là từ `Combo 4 hộp Gà Hầm Vissan (150g)`, dữ liệu đã được tiền xử lý và trở thành `hộp gà hầm vissan`"
   ]
  },
  {
   "cell_type": "markdown",
   "metadata": {},
   "source": [
    "## Bước 3: Chuyển data dạng text sang vector"
   ]
  },
  {
   "cell_type": "markdown",
   "metadata": {},
   "source": [
    "### Tách tập huấn huấn luyện, tập test từ data được tiền xử lý"
   ]
  },
  {
   "cell_type": "code",
   "execution_count": 11,
   "metadata": {},
   "outputs": [],
   "source": [
    "# Tách tập (train + validation) và tập test theo tỉ lệ 70%:30%\n",
    "\n",
    "X_trainVal, X_test, y_trainVal, y_test = train_test_split(\n",
    "    transformed_df['product_title'], transformed_df['category_id'], test_size=0.33, random_state=42)\n",
    "\n",
    "# tách tập thành tập train và validation từ tập trainVal\n",
    "X_train, X_val, y_train, y_val = train_test_split(X_trainVal, y_trainVal, test_size=0.33, random_state=1)"
   ]
  },
  {
   "cell_type": "markdown",
   "metadata": {},
   "source": [
    "### Chuyển data text sang vector số"
   ]
  },
  {
   "cell_type": "code",
   "execution_count": 21,
   "metadata": {},
   "outputs": [
    {
     "name": "stdout",
     "output_type": "stream",
     "text": [
      "  (0, 18327)\t0.2515241603572169\n",
      "  (0, 18295)\t0.27243971232010433\n",
      "  (0, 17493)\t0.33741290275111685\n",
      "  (0, 15902)\t0.4968485195264628\n",
      "  (0, 6919)\t0.22054781471736556\n",
      "  (0, 6909)\t0.2781323525836064\n",
      "  (0, 3522)\t0.22424299282766794\n",
      "  (0, 3423)\t0.2804709722782714\n",
      "  (0, 1792)\t0.4968485195264628\n",
      "  (1, 17433)\t0.2147581132015833\n",
      "  (1, 17028)\t0.30462931542423805\n",
      "  (1, 16158)\t0.25248142612573676\n",
      "  (1, 12544)\t0.3386262612279149\n",
      "  (1, 11985)\t0.3686976083787385\n",
      "  (1, 11957)\t0.3763495741520684\n",
      "  (1, 2704)\t0.4162179692342625\n",
      "  (1, 2695)\t0.22958723682012896\n",
      "  (1, 1895)\t0.4232501530463207\n",
      "  (2, 18237)\t0.3084270665030953\n",
      "  (2, 10205)\t0.3568365857132333\n",
      "  (2, 10120)\t0.29243118464984524\n",
      "  (2, 8192)\t0.30029621134939505\n",
      "  (2, 6490)\t0.3749480131970747\n",
      "  (2, 1899)\t0.31834747920696\n",
      "  (2, 1516)\t0.5999295402965633\n",
      "  :\t:\n",
      "  (63869, 1963)\t0.19264719867163857\n",
      "  (63870, 17433)\t0.2054904510428549\n",
      "  (63870, 15759)\t0.543925886009067\n",
      "  (63870, 15462)\t0.2533859700405693\n",
      "  (63870, 14810)\t0.390765735508586\n",
      "  (63870, 14057)\t0.5077675067771411\n",
      "  (63870, 4247)\t0.25243631883503814\n",
      "  (63870, 2357)\t0.35137452837795446\n",
      "  (63871, 18360)\t0.3431287876296457\n",
      "  (63871, 13379)\t0.3775373380967278\n",
      "  (63871, 10958)\t0.48211080676192747\n",
      "  (63871, 8977)\t0.34183899963686454\n",
      "  (63871, 7042)\t0.3357311124915582\n",
      "  (63871, 6827)\t0.304868868300598\n",
      "  (63871, 5357)\t0.4298639959563619\n",
      "  (63872, 17003)\t0.3661732822026374\n",
      "  (63872, 16288)\t0.2792221566301203\n",
      "  (63872, 16158)\t0.23407885466711156\n",
      "  (63872, 14507)\t0.2929372384013034\n",
      "  (63872, 10694)\t0.30124569233732335\n",
      "  (63872, 8963)\t0.37862314526642776\n",
      "  (63872, 8950)\t0.33945471290812745\n",
      "  (63872, 3453)\t0.21153290921787127\n",
      "  (63872, 2107)\t0.3919006937903739\n",
      "  (63872, 1946)\t0.31572250146132425\n"
     ]
    }
   ],
   "source": [
    "count_vect = CountVectorizer(analyzer= \"word\", stop_words=stop_words)\n",
    "X_train_counts = count_vect.fit_transform(X_train)\n",
    "\n",
    "tfidf_transformer = TfidfTransformer()\n",
    "X_train_tfidf = tfidf_transformer.fit_transform(X_train_counts)"
   ]
  },
  {
   "cell_type": "markdown",
   "metadata": {},
   "source": [
    "### Transform dữ liệu text của tập validation sang vector từ model đã thu được trươc đó\n"
   ]
  },
  {
   "cell_type": "code",
   "execution_count": 13,
   "metadata": {},
   "outputs": [],
   "source": [
    "X_val_counts = count_vect.transform(X_val)\n",
    "X_val_tfidf = tfidf_transformer.transform(X_val_counts)"
   ]
  },
  {
   "cell_type": "markdown",
   "metadata": {},
   "source": [
    "# B4: Dùng các model máy học khác nhau để dự đoán"
   ]
  },
  {
   "cell_type": "markdown",
   "metadata": {},
   "source": [
    "## Tạo model dự đoán naive bayes"
   ]
  },
  {
   "cell_type": "code",
   "execution_count": 14,
   "metadata": {},
   "outputs": [],
   "source": [
    "mnb_clf = MultinomialNB().fit(X_train_tfidf, y_train)"
   ]
  },
  {
   "cell_type": "markdown",
   "metadata": {},
   "source": [
    "## Dùng model dự đoán tập validation"
   ]
  },
  {
   "cell_type": "code",
   "execution_count": 15,
   "metadata": {},
   "outputs": [
    {
     "name": "stdout",
     "output_type": "stream",
     "text": [
      "Naive bayes Accuracy Score ->  80.60455802422047\n"
     ]
    }
   ],
   "source": [
    "multinomialNB_predict = mnb_clf.predict(X_val_tfidf)\n",
    "multinomialNB_score = accuracy_score(y_val, multinomialNB_predict) * 100\n",
    "print(\"Naive bayes Accuracy Score -> \", multinomialNB_score)"
   ]
  },
  {
   "cell_type": "markdown",
   "metadata": {},
   "source": [
    "## Dùng model Linear support vector machine (SGD)"
   ]
  },
  {
   "cell_type": "code",
   "execution_count": 16,
   "metadata": {},
   "outputs": [
    {
     "name": "stdout",
     "output_type": "stream",
     "text": [
      "SGD Accuracy Score ->  74.83233209370331\n"
     ]
    }
   ],
   "source": [
    "sgd_clf = SGDClassifier(loss='hinge', penalty='l2', alpha=1e-3,\n",
    "                    random_state=42, max_iter=5, tol=None).fit(X_train_tfidf, y_train)\n",
    "\n",
    "# predict the labels on validation dataset\n",
    "sdg_predict = sgd_clf.predict(X_val_tfidf)\n",
    "sgd_score = accuracy_score(y_val, sdg_predict) * 100\n",
    "print(\"SGD Accuracy Score -> \", sgd_score)"
   ]
  },
  {
   "cell_type": "markdown",
   "metadata": {},
   "source": [
    "## Dùng model Logistic Regression"
   ]
  },
  {
   "cell_type": "code",
   "execution_count": 17,
   "metadata": {},
   "outputs": [
    {
     "name": "stdout",
     "output_type": "stream",
     "text": [
      "LGT Accuracy Score ->  83.64006229935475\n"
     ]
    },
    {
     "name": "stderr",
     "output_type": "stream",
     "text": [
      "/usr/lib/python3.8/site-packages/sklearn/linear_model/logistic.py:946: ConvergenceWarning: lbfgs failed to converge. Increase the number of iterations.\n",
      "  warnings.warn(\"lbfgs failed to converge. Increase the number \"\n"
     ]
    }
   ],
   "source": [
    "lgt_clf = LogisticRegression(n_jobs=1, C=1e5, max_iter=100, solver='lbfgs', multi_class='auto').fit(X_train_tfidf, y_train)\n",
    "predictions_LGT = lgt_clf.predict(X_val_tfidf)\n",
    "lgt_score = accuracy_score(y_val, predictions_LGT) * 100\n",
    "print(\"LGT Accuracy Score -> \", lgt_score )"
   ]
  },
  {
   "cell_type": "code",
   "execution_count": 18,
   "metadata": {},
   "outputs": [
    {
     "data": {
      "image/png": "[encoded data removed]",
      "text/plain": [
       "<Figure size 432x288 with 1 Axes>"
      ]
     },
     "metadata": {
      "needs_background": "light"
     },
     "output_type": "display_data"
    }
   ],
   "source": [
    "objects = ('Naive Bayes', 'SGD', 'Logistic Regression')\n",
    "y_pos = np.arange(len(objects))\n",
    "scores = [multinomialNB_score,sgd_score, lgt_score]\n",
    "\n",
    "plt.bar(y_pos, scores, align='center', alpha=0.5)\n",
    "plt.xticks(y_pos, objects)\n",
    "plt.ylabel('Score')\n",
    "plt.title('Score for text classfication prediction models')\n",
    "\n",
    "plt.show()"
   ]
  },
  {
   "cell_type": "markdown",
   "metadata": {},
   "source": [
    "Sau khi chạy xong 3 mô hình máy học khác nhau thì ta thấy mô hình logistic regression có kết quả tốt nhất.\n",
    "\n",
    "Ta dùng model logistic regression để thực hiện train trên tập dữ liệu gồm có tập train và tập validation để tối ưu hóa kết quả"
   ]
  },
  {
   "cell_type": "code",
   "execution_count": 19,
   "metadata": {},
   "outputs": [
    {
     "name": "stderr",
     "output_type": "stream",
     "text": [
      "/usr/lib/python3.8/site-packages/sklearn/linear_model/logistic.py:946: ConvergenceWarning: lbfgs failed to converge. Increase the number of iterations.\n",
      "  warnings.warn(\"lbfgs failed to converge. Increase the number \"\n"
     ]
    },
    {
     "name": "stdout",
     "output_type": "stream",
     "text": [
      "Naive bayes test Accuracy Score ->  85.01181932406244\n"
     ]
    }
   ],
   "source": [
    "# X_trainVal là tập dữ liệu gồm tạp train và validation\n",
    "X_counts = count_vect.transform(X_trainVal)\n",
    "X_tfidf = tfidf_transformer.transform(X_counts)\n",
    "\n",
    "lr = LogisticRegression(n_jobs=1, C=1e5, max_iter=100, solver='lbfgs', multi_class='auto')\n",
    "last_lr_clf = lr.fit(X_tfidf, y_trainVal)\n",
    "\n",
    "X_test_counts = count_vect.transform(X_test)\n",
    "X_test_tfidf = tfidf_transformer.transform(X_test_counts)\n",
    "\n",
    "\n",
    "last_lr_predict = last_lr_clf.predict(X_test_tfidf)\n",
    "last_lr_test_score = accuracy_score(y_test, last_lr_predict) * 100\n",
    "print(\"Naive bayes test Accuracy Score -> \", last_lr_test_score)"
   ]
  },
  {
   "cell_type": "markdown",
   "metadata": {},
   "source": [
    "Sau khi dự đoán với tập test ta thu được score: 85.01"
   ]
  },
  {
   "cell_type": "markdown",
   "metadata": {},
   "source": [
    "## Dự đoán với dữ liệu bất kì"
   ]
  },
  {
   "cell_type": "code",
   "execution_count": 20,
   "metadata": {},
   "outputs": [
    {
     "name": "stdout",
     "output_type": "stream",
     "text": [
      "'Bàn phím acer' => Laptop - Thiết bị IT\n",
      "'lược sử loài người' => Sách, VPP & Quà Tặng\n",
      "'Trái đất hình thành như thế nào?' => Sách, VPP & Quà Tặng\n",
      "'Như là giấc mơ' => Sách, VPP & Quà Tặng\n",
      "'Găng tay xe đạp' => Xe Máy, Ô tô, Xe Đạp\n",
      "'Bình nước nóng sanyo' => Điện Gia Dụng\n"
     ]
    }
   ],
   "source": [
    "X_input = [\"Bàn phím acer\", \"lược sử loài người\", \"Trái đất hình thành như thế nào?\",\n",
    "             \"Như là giấc mơ\", \"Găng tay xe đạp\", \"Bình nước nóng sanyo\"]\n",
    "X_input_counts = count_vect.transform(X_input)\n",
    "X_input_tfidf = tfidf_transformer.transform(X_input_counts)\n",
    "x_input_predict= last_lr_clf.predict(X_input_tfidf)\n",
    "counter = 0\n",
    "for doc, category_id in zip(X_input, x_input_predict):\n",
    "    print('%r => %s' % (doc, textProcessor.id_to_categoryname(category_id)))\n",
    "    if(counter == 10):\n",
    "        break\n",
    "    counter += 1"
   ]
  },
  {
   "cell_type": "code",
   "execution_count": null,
   "metadata": {},
   "outputs": [],
   "source": []
  }
 ],
 "metadata": {
  "kernelspec": {
   "display_name": "Python 3",
   "language": "python",
   "name": "python3"
  },
  "language_info": {
   "codemirror_mode": {
    "name": "ipython",
    "version": 3
   },
   "file_extension": ".py",
   "mimetype": "text/x-python",
   "name": "python",
   "nbconvert_exporter": "python",
   "pygments_lexer": "ipython3",
   "version": "3.8.0"
  }
 },
 "nbformat": 4,
 "nbformat_minor": 2
}
